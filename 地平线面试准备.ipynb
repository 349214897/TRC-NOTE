{
 "cells": [
  {
   "cell_type": "markdown",
   "metadata": {},
   "source": [
    "# 卡尔曼滤波\n",
    "卡尔曼滤波是用来测量估计有高斯噪音污染的数据量。\n",
    "# 卡尔曼滤波原理\n",
    "利用观测值和估计值来加权平均作为最终的值。\n",
    "权重利用过去观测值和过去的估计值的表现确定（在前面的若干组测量中，他们的测量的方差是多大，均值是多少）\n",
    "# 卡尔曼滤波解题步骤\n",
    "1. 首先引入一个离散控制过程的系统。该系统用一线性随机微分方程描述。  \n",
    "    - X(k)=A X(k-1)+B U(k)+W(k)   \n",
    "再加上系统的测量值：  \n",
    "    - Z(k)=H X(k)+V(k)  \n",
    "X(k)是k时刻的系统状态，U(k)是k时刻对系统的控制量。A和B是系统参数，对于多模型系统，他们为矩阵。Z(k)是k时刻的测量值，H是测量系统的参数，对于多测量系统，H为矩阵。W(k)和V(k)分别表示过程和测量的噪声。他们被假设成高斯白噪声(White Gaussian Noise)，他们的协方差(covariance)分别是Q，R（这里我们假设他们不随系统状态变化而变化）。  \n",
    "2. 我们要利用系统的过程模型，来预测下一状态的系统。   \n",
    "    - X(k|k-1)=A X(k-1|k-1)+B U(k) ……….. (1)  \n",
    "式(1)中，X(k|k-1)是利用上一状态预测的结果，X(k-1|k-1)是上一状态最优的结果，U(k)为现在状态的控制量，如果没有控制量，它可以为0。   \n",
    "    - 更新协方差矩阵  \n",
    "    P(k|k-1)=A P(k-1|k-1) A’+Q ……… (2)  \n",
    "式(2)中，P(k|k-1)是X(k|k-1)对应的协方差，P(k-1|k-1)是X(k-1|k-1)对应的协方差，A’表示A的转置矩阵，Q是系统过程的协方差。式子1，2就是卡尔曼滤波器5个公式当中的前两个，也就是对系统的预测。    \n",
    "3. 获取系统新的测量值Z（k）  \n",
    "4. 结合预测值和测量值，我们可以得到现在状态(k)的最优化估算值X(k|k)：   \n",
    "    - X(k|k)= X(k|k-1)+Kg(k) (Z(k)-H X(k|k-1)) ……… (3)  \n",
    "    其中Kg为卡尔曼增益  \n",
    "    - Kg(k)= P(k|k-1) H’ / (H P(k|k-1) H’ + R) ……… (4)  \n",
    "5. 为了要令卡尔曼滤波器不断的运行下去直到系统过程结束，我们还要更新k状态下X(k|k)的协方差：  \n",
    "    - P(k|k)=（I-Kg(k) H）P(k|k-1) ……… (5)  \n",
    "\n",
    "\n",
    "    \n",
    "\n"
   ]
  }
 ],
 "metadata": {
  "kernelspec": {
   "display_name": "Python 2",
   "language": "python",
   "name": "python2"
  },
  "language_info": {
   "codemirror_mode": {
    "name": "ipython",
    "version": 2
   },
   "file_extension": ".py",
   "mimetype": "text/x-python",
   "name": "python",
   "nbconvert_exporter": "python",
   "pygments_lexer": "ipython2",
   "version": "2.7.11"
  }
 },
 "nbformat": 4,
 "nbformat_minor": 0
}
