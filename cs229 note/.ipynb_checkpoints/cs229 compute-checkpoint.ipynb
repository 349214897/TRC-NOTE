{
 "cells": [
  {
   "cell_type": "markdown",
   "metadata": {},
   "source": [
    "### 1.矩阵基本操作"
   ]
  },
  {
   "cell_type": "code",
   "execution_count": 6,
   "metadata": {
    "collapsed": false
   },
   "outputs": [
    {
     "name": "stdout",
     "output_type": "stream",
     "text": [
      "[[2 1]\n",
      " [3 4]]\n",
      "[[2 1]\n",
      " [3 4]]\n",
      "[[ 4  1]\n",
      " [ 9 16]]\n",
      "[[ 0.8 -0.2]\n",
      " [-0.6  0.4]]\n",
      "[[2 3]\n",
      " [1 4]]\n",
      "[[4 2]\n",
      " [6 8]]\n",
      "[[6 8]]\n",
      "[[4]\n",
      " [8]]\n",
      "8\n",
      "[[False  True]\n",
      " [False False]]\n",
      "[[1 0 0 0]\n",
      " [0 2 0 0]\n",
      " [0 0 3 0]\n",
      " [0 0 0 4]]\n"
     ]
    },
    {
     "data": {
      "text/plain": [
       "numpy.ndarray"
      ]
     },
     "execution_count": 6,
     "metadata": {},
     "output_type": "execute_result"
    }
   ],
   "source": [
    "from numpy import *\n",
    "import numpy as np \n",
    "a=np.mat([[2,1],[3,4]])\n",
    "b=np.mat([[2,1],[3,4]])\n",
    "\n",
    "print a\n",
    "print b\n",
    "\n",
    "c=multiply(a,b)\n",
    "\n",
    "print c\n",
    "print a.I\n",
    "print a.T\n",
    "d=a+b\n",
    "print d\n",
    "print d.max(axis=0)\n",
    "print d.max(axis=1)\n",
    "print d.max()\n",
    "print d<3\n",
    "type(d<3)\n",
    "M=[1,2,3,4]\n",
    "dia=diag(M)\n",
    "print dia\n",
    "type(dia)\n",
    "g=np.array([1,2,3,4])\n",
    "type(g)\n",
    "    \n"
   ]
  },
  {
   "cell_type": "code",
   "execution_count": 45,
   "metadata": {
    "collapsed": false
   },
   "outputs": [
    {
     "name": "stdout",
     "output_type": "stream",
     "text": [
      "[[ 3.  4.  5.]\n",
      " [ 3.  4.  5.]\n",
      " [ 3.  4.  5.]]\n",
      "3\n",
      "d=\n",
      "[[3 4 5]]\n",
      "([3, 4, 5], [2, 3, 4])\n"
     ]
    },
    {
     "data": {
      "text/plain": [
       "3"
      ]
     },
     "execution_count": 45,
     "metadata": {},
     "output_type": "execute_result"
    }
   ],
   "source": [
    "\n",
    "a=mat(ones((3,1)))\n",
    "b=mat([2,3,4])\n",
    "c=a+b\n",
    "print c\n",
    "print c.shape[0]\n",
    "d=mat([3,4,5])\n",
    "print \"d=\"\n",
    "print d\n",
    "f=[3,4,5],[2,3,4]\n",
    "print f\n",
    "type(f)\n",
    "d.max()\n",
    "d.min()\n",
    "\n"
   ]
  },
  {
   "cell_type": "code",
   "execution_count": 88,
   "metadata": {
    "collapsed": false
   },
   "outputs": [
    {
     "name": "stdout",
     "output_type": "stream",
     "text": [
      "[1.0, 2.01, 3.01]\n",
      "[ 1.  2.  3.]\n",
      "[ 1.  3.  4.]\n",
      "[ 1.    2.01  3.01]\n",
      "[ 1.  3.  4.]\n",
      "[ 1.  2.  3.]\n",
      "[[ 0.31717093  0.43189145  0.52278295]\n",
      " [ 0.83066053  0.10513369  0.95008556]\n",
      " [ 0.17950712  0.32970955  0.49808138]\n",
      " [ 0.10675011  0.40208025  0.05229   ]]\n",
      "[0 1 2 3 4 5 6 7 8 9]\n",
      "[[ 0.14722222 -0.14444444  0.06388889]\n",
      " [-0.06111111  0.02222222  0.10555556]\n",
      " [-0.01944444  0.18888889 -0.10277778]]\n"
     ]
    }
   ],
   "source": [
    "a=[1.0,2.01,3.01]\n",
    "print a\n",
    "print floor(a)\n",
    "print ceil(a)\n",
    "type(a)\n",
    "b=array(a)\n",
    "print b\n",
    "type(b)\n",
    "print ceil(b)\n",
    "print floor(b)\n",
    "c=np.random.random((4,3))\n",
    "print(c)\n",
    "c=arange(10)\n",
    "print c\n",
    "type(c)\n",
    "\n",
    "v=mat([[8,1,6],[3,5,7],[4,9,2]])\n",
    "x=v.I\n",
    "print(x)\n",
    "\n"
   ]
  },
  {
   "cell_type": "markdown",
   "metadata": {},
   "source": [
    "### 2.matplotlib绘图相关"
   ]
  },
  {
   "cell_type": "code",
   "execution_count": 14,
   "metadata": {
    "collapsed": false
   },
   "outputs": [
    {
     "name": "stdout",
     "output_type": "stream",
     "text": [
      "[ 0.    0.01  0.02  0.03  0.04  0.05  0.06  0.07  0.08  0.09  0.1   0.11\n",
      "  0.12  0.13  0.14  0.15  0.16  0.17  0.18  0.19  0.2   0.21  0.22  0.23\n",
      "  0.24  0.25  0.26  0.27  0.28  0.29  0.3   0.31  0.32  0.33  0.34  0.35\n",
      "  0.36  0.37  0.38  0.39  0.4   0.41  0.42  0.43  0.44  0.45  0.46  0.47\n",
      "  0.48  0.49  0.5   0.51  0.52  0.53  0.54  0.55  0.56  0.57  0.58  0.59\n",
      "  0.6   0.61  0.62  0.63  0.64  0.65  0.66  0.67  0.68  0.69  0.7   0.71\n",
      "  0.72  0.73  0.74  0.75  0.76  0.77  0.78  0.79  0.8   0.81  0.82  0.83\n",
      "  0.84  0.85  0.86  0.87  0.88  0.89  0.9   0.91  0.92  0.93  0.94  0.95\n",
      "  0.96  0.97]\n"
     ]
    }
   ],
   "source": [
    "import matplotlib\n",
    "from matplotlib import pyplot as plt\n",
    "t=arange(98)/100.0\n",
    "print t\n",
    "y=sin(2*pi*4*t)\n",
    "y1=cos(2*pi*4*t)\n",
    "plt.plot(t,y)\n",
    "plt.cla()\n",
    "#在一个界面绘图\n",
    "plt.plot(t,y1)\n",
    "plt.title=\"trc\"\n",
    "plt.savefig(\"/Users/trc/Desktop/trc.jpg\")\n",
    "plt.show()"
   ]
  },
  {
   "cell_type": "code",
   "execution_count": 32,
   "metadata": {
    "collapsed": false
   },
   "outputs": [],
   "source": [
    "#在两个界面绘图\n",
    "plt.figure(\"fig1\")\n",
    "plt.figure(\"fig2\")\n",
    "plt.figure(\"fig1\")\n",
    "plt.plot(t,y)\n",
    "\n"
   ]
  },
  {
   "cell_type": "code",
   "execution_count": 37,
   "metadata": {
    "collapsed": false
   },
   "outputs": [],
   "source": [
    "#在一个图里面画两个子图\n",
    "plt.figure(\"fig2\")\n",
    "ax1=plt.subplot(121)\n",
    "ax2=plt.subplot(122)\n",
    "plt.sca(ax1)\n",
    "plt.plot(t,y1)\n",
    "plt.sca(ax2)\n",
    "plt.plot(t,y)\n",
    "plt.show()"
   ]
  },
  {
   "cell_type": "code",
   "execution_count": 50,
   "metadata": {
    "collapsed": false
   },
   "outputs": [
    {
     "name": "stdout",
     "output_type": "stream",
     "text": [
      "[[ 0.53561087  0.42863293  0.69219226  0.00748107]\n",
      " [ 0.39196698  0.01407046  0.66449997  0.2944357 ]\n",
      " [ 0.49383477  0.58249027  0.78905602  0.67463179]]\n"
     ]
    }
   ],
   "source": [
    "#在matplotlib中绘制矩阵方块\n",
    "a=mat(random.random((3,4)))\n",
    "print a \n",
    "plt.matshow(a,extent=[0,3,0,4],)\n",
    "plt.show()"
   ]
  },
  {
   "cell_type": "code",
   "execution_count": 55,
   "metadata": {
    "collapsed": false
   },
   "outputs": [
    {
     "name": "stdout",
     "output_type": "stream",
     "text": [
      "[[ 0.1243356   0.5730049   0.25038526  0.67983257]\n",
      " [ 0.71478858  0.94170428  0.8997099   0.67624878]\n",
      " [ 0.98365686  0.55041891  0.15118887  0.47995836]]\n"
     ]
    }
   ],
   "source": [
    "#在matplotlib中利用imshow绘图\n",
    "a=mat(random.random((3,4)))\n",
    "print a \n",
    "plt.imshow(a,extent=[0,3,0,4],)\n",
    "plt.show()"
   ]
  },
  {
   "cell_type": "code",
   "execution_count": 53,
   "metadata": {
    "collapsed": false
   },
   "outputs": [],
   "source": [
    "#在matplotlib中便捷的创建子图\n",
    "import matplotlib.pyplot as plt\n",
    "import numpy as np\n",
    "\n",
    "grid = np.random.random((10,10))\n",
    "\n",
    "fig, (ax1, ax2, ax3) = plt.subplots(nrows=3, figsize=(6,10))\n",
    "\n",
    "ax1.imshow(grid, extent=[0,100,0,1])\n",
    "ax1.set_title('Default')\n",
    "\n",
    "ax2.imshow(grid, extent=[0,100,0,1], aspect='auto')\n",
    "ax2.set_title('Auto-scaled Aspect')\n",
    "\n",
    "ax3.imshow(grid, extent=[0,100,0,1], aspect=100)\n",
    "ax3.set_title('Manually Set Aspect')\n",
    "\n",
    "plt.tight_layout()\n",
    "plt.show()"
   ]
  },
  {
   "cell_type": "code",
   "execution_count": 69,
   "metadata": {
    "collapsed": false
   },
   "outputs": [
    {
     "data": {
      "image/png": "[encoded data removed]",
      "text/plain": [
       "<matplotlib.figure.Figure at 0x10ed06390>"
      ]
     },
     "metadata": {},
     "output_type": "display_data"
    },
    {
     "data": {
      "image/png": "[encoded data removed]",
      "text/plain": [
       "<matplotlib.figure.Figure at 0x10e1c5e50>"
      ]
     },
     "metadata": {},
     "output_type": "display_data"
    }
   ],
   "source": [
    "#曲线和绘图结合\n",
    "%matplotlib inline\n",
    "plt.figure(1) # 创建图表1\n",
    "plt.figure(2) # 创建图表2\n",
    "ax1 = plt.subplot(211) # 在图表2中创建子图1\n",
    "ax2 = plt.subplot(212) # 在图表2中创建子图2\n",
    "x = np.linspace(0, 3, 100)\n",
    "for i in xrange(5):\n",
    "    plt.figure(1)  #❶ # 选择图表1\n",
    "    plt.plot(x, np.exp(i*x/3))\n",
    "    plt.sca(ax1)   #❷ # 选择图表2的子图1\n",
    "    plt.plot(x, np.sin(i*x))\n",
    "    plt.sca(ax2)  # 选择图表2的子图2\n",
    "    plt.plot(x, np.cos(i*x))\n",
    "plt.show()"
   ]
  },
  {
   "cell_type": "code",
   "execution_count": 60,
   "metadata": {
    "collapsed": false,
    "scrolled": true
   },
   "outputs": [
    {
     "name": "stdout",
     "output_type": "stream",
     "text": [
      "[[ 0.82433815  0.49709567  0.9419039   0.14537431]\n",
      " [ 0.13865306  0.05758841  0.31772567  0.58981015]\n",
      " [ 0.82010119  0.11573313  0.922057    0.14938437]]\n"
     ]
    },
    {
     "data": {
      "image/png": "[encoded data removed]",
      "text/plain": [
       "<matplotlib.figure.Figure at 0x10f084490>"
      ]
     },
     "metadata": {},
     "output_type": "display_data"
    }
   ],
   "source": [
    "#将图直接画在jupyter中\n",
    "%matplotlib inline\n",
    "a=mat(random.random((3,4)))\n",
    "print a \n",
    "plt.imshow(a,extent=[0,3,0,4],)\n",
    "plt.show()"
   ]
  },
  {
   "cell_type": "markdown",
   "metadata": {},
   "source": [
    "### 3.常见的命令循环控制"
   ]
  },
  {
   "cell_type": "code",
   "execution_count": 76,
   "metadata": {
    "collapsed": false
   },
   "outputs": [
    {
     "name": "stdout",
     "output_type": "stream",
     "text": [
      "1\n",
      "51\n",
      "[ 1.  1.  1.  1.]\n",
      "[ 1.  1.  1.  1.]\n",
      "[ 1.  1.  1.  1.]\n"
     ]
    }
   ],
   "source": [
    "#for循环的常见几种用法\n",
    "#1.循环迭代\n",
    "for i in range(1, 100,50):\n",
    "    print i\n",
    "#2.遍历集合中的元素来控制循环\n",
    "m=ones((3,4))\n",
    "for e in m:\n",
    "       print(e)"
   ]
  },
  {
   "cell_type": "markdown",
   "metadata": {},
   "source": [
    "### 4. 设置python工作路径"
   ]
  },
  {
   "cell_type": "code",
   "execution_count": 92,
   "metadata": {
    "collapsed": false,
    "scrolled": true
   },
   "outputs": [
    {
     "name": "stdout",
     "output_type": "stream",
     "text": [
      "/Users/trc\n",
      "/Users\n",
      "/Users/trc\n",
      "<module 'os' from '/Users/trc/anaconda/lib/python2.7/os.pyc'>\n"
     ]
    }
   ],
   "source": [
    "import os\n",
    "print os.getcwd()  \n",
    "os.chdir(\"/Users/\")\n",
    "print os.getcwd()\n",
    "os.chdir(\"/Users/trc/\")\n",
    "print os.getcwd()\n",
    "print os"
   ]
  },
  {
   "cell_type": "markdown",
   "metadata": {},
   "source": [
    "### 5.为系统添加模块默认搜索路径"
   ]
  },
  {
   "cell_type": "code",
   "execution_count": 97,
   "metadata": {
    "collapsed": false
   },
   "outputs": [
    {
     "name": "stdout",
     "output_type": "stream",
     "text": [
      "['', '/Users/trc/caffe/python', '/Users/trc', '/Users/trc/anaconda/lib/python27.zip', '/Users/trc/anaconda/lib/python2.7', '/Users/trc/anaconda/lib/python2.7/plat-darwin', '/Users/trc/anaconda/lib/python2.7/plat-mac', '/Users/trc/anaconda/lib/python2.7/plat-mac/lib-scriptpackages', '/Users/trc/anaconda/lib/python2.7/lib-tk', '/Users/trc/anaconda/lib/python2.7/lib-old', '/Users/trc/anaconda/lib/python2.7/lib-dynload', '/Users/trc/anaconda/lib/python2.7/site-packages/Sphinx-1.3.5-py2.7.egg', '/Users/trc/anaconda/lib/python2.7/site-packages/setuptools-20.3-py2.7.egg', '/Users/trc/anaconda/lib/python2.7/site-packages', '/Users/trc/anaconda/lib/python2.7/site-packages/aeosa', '/Users/trc/anaconda/lib/python2.7/site-packages/IPython/extensions', '/Users/trc/.ipython', '/Users/trc/caffe', '/Users/trc/caffe']\n",
      "['', '/Users/trc/caffe/python', '/Users/trc', '/Users/trc/anaconda/lib/python27.zip', '/Users/trc/anaconda/lib/python2.7', '/Users/trc/anaconda/lib/python2.7/plat-darwin', '/Users/trc/anaconda/lib/python2.7/plat-mac', '/Users/trc/anaconda/lib/python2.7/plat-mac/lib-scriptpackages', '/Users/trc/anaconda/lib/python2.7/lib-tk', '/Users/trc/anaconda/lib/python2.7/lib-old', '/Users/trc/anaconda/lib/python2.7/lib-dynload', '/Users/trc/anaconda/lib/python2.7/site-packages/Sphinx-1.3.5-py2.7.egg', '/Users/trc/anaconda/lib/python2.7/site-packages/setuptools-20.3-py2.7.egg', '/Users/trc/anaconda/lib/python2.7/site-packages', '/Users/trc/anaconda/lib/python2.7/site-packages/aeosa', '/Users/trc/anaconda/lib/python2.7/site-packages/IPython/extensions', '/Users/trc/.ipython', '/Users/trc/caffe']\n"
     ]
    }
   ],
   "source": [
    "import sys\n",
    "print sys.path\n",
    "#print sys.path.append(\"/Users/trc/caffe\")\n",
    "#print sys.path\n",
    "#sys.path.remove(\"/Users/trc/caffe\")\n",
    "#print sys.path"
   ]
  },
  {
   "cell_type": "markdown",
   "metadata": {},
   "source": [
    "### 6.函数定义"
   ]
  },
  {
   "cell_type": "code",
   "execution_count": 118,
   "metadata": {
    "collapsed": false
   },
   "outputs": [
    {
     "name": "stdout",
     "output_type": "stream",
     "text": [
      "[[1 1]\n",
      " [1 2]\n",
      " [1 3]]\n",
      "[[1]\n",
      " [2]\n",
      " [3]]\n",
      "[[0]\n",
      " [0]]\n",
      "3\n",
      "pre=\n",
      "[[0]\n",
      " [0]\n",
      " [0]]\n",
      "sqrError=\n",
      "[[1]\n",
      " [4]\n",
      " [9]]\n",
      "14\n",
      "2.33333333333\n",
      "2.33333333333\n"
     ]
    }
   ],
   "source": [
    "def costfuc(x,y,the):\n",
    "    m=x.shape[0]  #number of training examples\n",
    "    print m\n",
    "    predictions=x*the\n",
    "    print \"pre=\"\n",
    "    print predictions\n",
    "    sqrErrors=multiply((predictions-y),(predictions-y))\n",
    "    print \"sqrError=\"\n",
    "    print sqrErrors\n",
    "    print sum(sqrErrors)\n",
    "    I=1.0/(2*m)*sum(sqrErrors)\n",
    "    print I\n",
    "    return I\n",
    "x=mat([[1,1],[1,2],[1,3]])\n",
    "print x\n",
    "y=mat([[1],[2],[3]])\n",
    "print y\n",
    "the=mat([[0],[0]])\n",
    "print the\n",
    "print costfuc(x,y,the)"
   ]
  }
 ],
 "metadata": {
  "kernelspec": {
   "display_name": "Python 2",
   "language": "python",
   "name": "python2"
  },
  "language_info": {
   "codemirror_mode": {
    "name": "ipython",
    "version": 2
   },
   "file_extension": ".py",
   "mimetype": "text/x-python",
   "name": "python",
   "nbconvert_exporter": "python",
   "pygments_lexer": "ipython2",
   "version": "2.7.11"
  }
 },
 "nbformat": 4,
 "nbformat_minor": 0
}
