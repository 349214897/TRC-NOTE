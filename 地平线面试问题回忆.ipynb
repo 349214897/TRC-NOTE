{
 "cells": [
  {
   "cell_type": "markdown",
   "metadata": {},
   "source": [
    "- 除了sgd优化算法外，还有那些优化算法？\n",
    "- sigmod和relu的区别，为什么要用relu？\n",
    "- 写一个统计词频的函数\n",
    "- map实现？\n",
    "- hashfuc实现\n",
    "- 二分查找实现\n",
    "- 用神经网络做过哪些项目"
   ]
  }
 ],
 "metadata": {
  "kernelspec": {
   "display_name": "Python 2",
   "language": "python",
   "name": "python2"
  },
  "language_info": {
   "codemirror_mode": {
    "name": "ipython",
    "version": 2
   },
   "file_extension": ".py",
   "mimetype": "text/x-python",
   "name": "python",
   "nbconvert_exporter": "python",
   "pygments_lexer": "ipython2",
   "version": "2.7.11"
  }
 },
 "nbformat": 4,
 "nbformat_minor": 0
}
