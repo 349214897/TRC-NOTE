{
 "cells": [
  {
   "cell_type": "markdown",
   "metadata": {},
   "source": [
    "# 单目相机标定\n",
    "如下图\n",
    "![](cam biaoding.png)\n",
    "C=[cu,cv,cz]代表相机坐标\n",
    "I=[iu,iv,1]代表图片坐标\n",
    "s为缩放因子\n",
    "他们满足\n",
    "sI=TC,其中T为缩放矩阵  \n",
    "[[fx,0,cu],  \n",
    " [0,fy,cv],  \n",
    " [0,0,1]]\n",
    " \n",
    " 这是平行平面转换，有时所拍摄物体的平面不是平行于图像平面，那么还有一个R旋转矩阵，总方程为\n",
    " sI=T（RC）  \n",
    "**[逆透视变换原理](http://wenku.baidu.com/link?url=TvhZHAcf532xd3wIp216o51lFHEYC8v66rPjihUW6QbXJOqeZTSkEofPmQqZk2rZSHmUu_AeJCKdiiKoZcfPU9yv57AWaQ23rfGHf-ZAnkW)**\n",
    "\n",
    "\n",
    "\n",
    "# [全景图拼接](http://wenku.baidu.com/link?url=bN4jZFNVzJpkL6YI6c17tFnEs6-4O2qbEbh92AUFGB7mjPFMxUUk9VZ4RUx7OCUIILYmMbYMri5IIWs7HUOfyV2RpnfDY82AjJxqmR3Rr6G)\n",
    "\n",
    "# SLAM\n",
    ">实时定位和地图生成(simultaneous lacalization and mapping)  \n",
    "\n",
    "**要做到上述功能需要完成三个步骤**\n",
    "1. 自己在那里？\n",
    "2. 我在的这里整体是什么样的\n",
    "需要用到的算法\n",
    ">1. 标定\n",
    ">2. 定位（平面sift特征匹配，立体icp迭代最近点匹配），知道自己转过了多少度从上一个位置，这里用到ransac（随机采样一致性算法）\n",
    ">3. 不断的将场景拼接，形成全景地图\n",
    "\n",
    "3.问题 渐进式匹配存在累计误差   \n",
    "4.闭环检测\n",
    "kinect-SLAM使用前面n帧，如果匹配上认为闭环  \n",
    "[视觉slam漫谈](http://blog.csdn.net/lcj_cjfykx/article/details/46407875)\n",
    "\n",
    "# 双目视觉信息融合\n",
    "![双目视觉的一般流程](sm.png)\n",
    "\n",
    "# qt基础知识\n",
    "首要的是会查阅qt assistant\n",
    "1. model view\n",
    "2. graphics view\n",
    "3. properties view\n",
    "4. signal slot\n",
    "\n",
    "# c++基础知识\n",
    "1. 拷贝构造函数\n",
    "2. 虚析构函数\n",
    "3. 单例模式\n",
    "4. 智能指针\n",
    "5. stl标准模板库  \n",
    "\n",
    "# opencv基础知识，图像处理基础知识\n"
   ]
  },
  {
   "cell_type": "code",
   "execution_count": null,
   "metadata": {
    "collapsed": true
   },
   "outputs": [],
   "source": []
  }
 ],
 "metadata": {
  "kernelspec": {
   "display_name": "Python 2",
   "language": "python",
   "name": "python2"
  },
  "language_info": {
   "codemirror_mode": {
    "name": "ipython",
    "version": 2
   },
   "file_extension": ".py",
   "mimetype": "text/x-python",
   "name": "python",
   "nbconvert_exporter": "python",
   "pygments_lexer": "ipython2",
   "version": "2.7.11"
  }
 },
 "nbformat": 4,
 "nbformat_minor": 0
}
