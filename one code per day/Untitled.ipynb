{
 "cells": [
  {
   "cell_type": "markdown",
   "metadata": {},
   "source": [
    "# 词频统计\n"
   ]
  },
  {
   "cell_type": "markdown",
   "metadata": {},
   "source": [
    "## 思路一\n",
    "利用结构体和c++的标准库string实现此功能\n",
    "代码如下："
   ]
  },
  {
   "cell_type": "code",
   "execution_count": null,
   "metadata": {
    "collapsed": true
   },
   "outputs": [],
   "source": [
    "\n",
    "#include <iostream>\n",
    "#include <string>\n",
    "using namespace std;\n",
    "//Words\n",
    "struct Words\n",
    "{\n",
    "public:\n",
    "    Words(string s=\"\",int n=0):Str(s),cnt(n){};\n",
    "\n",
    "    string Str;\n",
    "    int cnt;\n",
    "    \n",
    "};\n",
    "\n",
    "void countWord(Words *words,string ss,int size){\n",
    "    int i=0;\n",
    "    for (; i<size; i++) {\n",
    "        if(words[i].Str==ss)\n",
    "        {\n",
    "            words[i].cnt++;\n",
    "            return;\n",
    "        }\n",
    "        else if(words[i].Str==\"\"){\n",
    "            break;\n",
    "        }\n",
    "    }\n",
    "    words[i].Str=ss;\n",
    "    words[i].cnt=1;\n",
    "}\n",
    "\n",
    "int main(int argc, const char * argv[]) {\n",
    "    // insert code here...\n",
    "    //compute the number of words\n",
    "    //string content;\n",
    "    //getline(cin, content);\n",
    "    string content=\"my teacher is a good teacher\";\n",
    "    //statist word\n",
    "    int word_num=1;\n",
    "    for (size_t i=0; i<content.length();i++) {\n",
    "        if(content[i]==' '|| content[i]=='\\n'){\n",
    "            word_num++;\n",
    "        }\n",
    "    }\n",
    "    Words* words=new Words[word_num];\n",
    "    int offset=0;\n",
    "    offset=content.find(\" \");\n",
    "    string str;\n",
    "     while(offset!=string::npos)\n",
    "    {\n",
    "        str=content.substr(0,offset);\n",
    "        countWord(words,str,word_num);\n",
    "        content.erase(0,offset+1);\n",
    "        offset=content.find(' '/* || '\\t' || '\\n' || '.' || ','*/ );\n",
    "    }\n",
    "    countWord(words, content,word_num);\n",
    "    \n",
    "    //output result\n",
    "    for(int i=0;i<5;i++)\n",
    "    {\n",
    "        cout<<words[i].Str<<\" \"<<words[i].cnt<<endl;\n",
    "    }\n",
    "    \n",
    "    return 0;\n",
    "}"
   ]
  },
  {
   "cell_type": "markdown",
   "metadata": {},
   "source": [
    "## 思路二，利用c++标准模板库hashmap解决\n",
    "**注意** [C++中的STL中map用法详解 ](http://blog.sina.com.cn/s/blog_a9303fd9010195hm.html)  \n",
    "  [C++ STL中Map的按Key排序和按Value排序](http://www.cnblogs.com/lakeone/p/5599047.html)  \n",
    ">\n",
    "由于map在构造时已经自带了比较器在内部对map的元素按key值进行了排序，下面主要针对对value排序的问题作总结\n",
    "\n",
    "1. map插入有两种方法\n",
    "    * enumMap.insert(map<int, CString> :: value_type(2, \"Two\"))\n",
    "    * enumMap[1]=\"string\"  \n",
    "2. 利用stl中sort算法实现排序，不幸的是，sort算法有个限制，利用sort算法只能对序列容器进行排序，就是线性的（如vector，list，deque），因此我们把map元素放到容器中，在对其进行排序。\n",
    " "
   ]
  },
  {
   "cell_type": "code",
   "execution_count": null,
   "metadata": {
    "collapsed": true
   },
   "outputs": [],
   "source": [
    "#include <iostream>\n",
    "#include <string>\n",
    "#include <map>\n",
    "#include <vector>\n",
    "using namespace std;\n",
    "typedef pair<string,int> PAIR;\n",
    "struct compar{\n",
    "    bool operator ()(PAIR& lrs,PAIR& rrs){\n",
    "        return lrs.second > rrs.second;\n",
    "    }\n",
    "};\n",
    "int main(int argc, const char * argv[]){\n",
    "    string content=\"my teacher is a good teacher\";\n",
    "    map<string,int>map_word;\n",
    "    int offset=0;\n",
    "    offset=content.find(\" \");\n",
    "    while(offset!=string::npos){\n",
    "        string str=content.substr(0,offset);\n",
    "        content.erase(0,offset+1);\n",
    "        map_word[str]++;\n",
    "        offset=content.find(\" \");\n",
    "    }\n",
    "    map_word[content]++;\n",
    "    map<string,int>::iterator mp;\n",
    "    mp=map_word.begin();\n",
    "    for (; mp!=map_word.end(); mp++) {\n",
    "        cout<<mp->first<<\" \"<<mp->second<<endl;\n",
    "    }\n",
    "    \n",
    "    //sort\n",
    "    vector<pair<string,int> > map_vec(map_word.begin(),map_word.end());\n",
    "    sort(map_vec.begin(), map_vec.end(), compar());\n",
    "    for(vector<PAIR>::iterator it=map_vec.begin();it != map_vec.end();it++)\n",
    "    {\n",
    "        cout<<(*it).first<<\" \"<<(*it).second<<endl;\n",
    "    }\n",
    "    \n",
    "}\n"
   ]
  },
  {
   "cell_type": "markdown",
   "metadata": {},
   "source": [
    "## 思路三，利用c自己实现hash函数解决，即自己实现hashmap"
   ]
  },
  {
   "cell_type": "code",
   "execution_count": null,
   "metadata": {
    "collapsed": true
   },
   "outputs": [],
   "source": []
  }
 ],
 "metadata": {
  "kernelspec": {
   "display_name": "Python 2",
   "language": "python",
   "name": "python2"
  },
  "language_info": {
   "codemirror_mode": {
    "name": "ipython",
    "version": 2
   },
   "file_extension": ".py",
   "mimetype": "text/x-python",
   "name": "python",
   "nbconvert_exporter": "python",
   "pygments_lexer": "ipython2",
   "version": "2.7.11"
  }
 },
 "nbformat": 4,
 "nbformat_minor": 0
}
