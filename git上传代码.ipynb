{
 "cells": [
  {
   "cell_type": "markdown",
   "metadata": {},
   "source": [
    "# 1.在github web端新建项目仓库\n",
    "# 2.进入想上传的项目文件夹git init初始化仓库\n",
    ">1. **其中需要在本地端创建ssh key方便以后再本地上传代码**  \n",
    "$ ssh-keygen -t rsa -C \"your_email@youremail.com\"  \n",
    "直接点回车，说明会在默认文件id_rsa上生成ssh key  \n",
    "然后系统要求输入密码，直接按回车表示不设密码  \n",
    "重复密码时也是直接回车，之后提示你shh key已经生成成功  \n",
    "![类似于下图](ssh.png)  \n",
    "2. **打开生成的id_rsa.pub，复制里面的key**，放到git web的ssh keys项目里  \n",
    "3. 验证是否成功，在git bash下输入,$$ ssh -T git@github.com  \n",
    "4. 接下来我们要做的就是把本地仓库传到github上去，在此之前还需要设置username和email，因为github每次commit都会记录他们  \n",
    " git config --global user.name \"your name\"  \n",
    " git config --global user.email \"your_email@youremail.com\"\n",
    " \n",
    "# 3.进入要上传的仓库，右键git bash，添加远程地址\n",
    "git remote add origin git@github.com:yourName/yourRepo.git  \n",
    "\n",
    "# 4.提交上传\n",
    "git add README  \n",
    "git commit -m \"first commit\"  \n",
    "git push origin master  \n",
    "git push origin master --force强制上传"
   ]
  }
 ],
 "metadata": {
  "kernelspec": {
   "display_name": "Python 2",
   "language": "python",
   "name": "python2"
  },
  "language_info": {
   "codemirror_mode": {
    "name": "ipython",
    "version": 2
   },
   "file_extension": ".py",
   "mimetype": "text/x-python",
   "name": "python",
   "nbconvert_exporter": "python",
   "pygments_lexer": "ipython2",
   "version": "2.7.11"
  }
 },
 "nbformat": 4,
 "nbformat_minor": 0
}
