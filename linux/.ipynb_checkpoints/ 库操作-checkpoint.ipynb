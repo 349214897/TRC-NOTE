{
 "cells": [
  {
   "cell_type": "markdown",
   "metadata": {},
   "source": [
    "# 1生成静态库\n",
    "1. 编译mylib.c生成目标文件：gcc -o mylib.o -c mylib.c\n",
    "\n",
    "2. 将目标文件加入到静态库中：ar rcs libmylib.a mylib.o\n",
    "3. 将静态库copy到Linux的库目录（/usr/lib或者/lib）下：\n",
    "cp libmylib.a /usr/lib/libmylib.a \n",
    "4. 使用静态库编译：gcc -o test test.c -lmylib\n",
    "\n",
    "# 2生成动态库\n",
    "1. 编译生成动态库gcc -fPIC -shared -o libmax.so max.c\n",
    ">这条命令等价于\n",
    "gcc -c -fPIC max.c\n",
    "gcc -shared -o libmax.so max.o\n",
    "2. 为动态库编写接口文件max.h\n",
    "3. 链接动态库生成可执行文件\n",
    ">gcc test.c -L. -lmax 生成a.out，其中-lmax表示要链接libmax.so。\n",
    "-L.表示搜索要链接的库文件时包含当前路径。\n",
    "\n",
    "**注意**，如果同一目录下同时存在同名的动态库和静态库，比如 libmax.so 和 libmax.a 都在当前路径下，\n",
    "则gcc会优先链接动态库。\n",
    "\n",
    "# 3常见gcc功能\n",
    "1. 预定义宏  \n",
    ">__FILE__ ,__LINE__,__DATE__,__TIME__,__FUCTION__,\n",
    "c++  __cplusplus”\n",
    "其实也可用gcc编译c++，要映入stdc++库，但那一般用g++\n",
    "#program pack（4）设置四字节对齐的编译预处理命令\n",
    ">属性修饰  attribute"
   ]
  }
 ],
 "metadata": {
  "kernelspec": {
   "display_name": "Python 2",
   "language": "python",
   "name": "python2"
  },
  "language_info": {
   "codemirror_mode": {
    "name": "ipython",
    "version": 2
   },
   "file_extension": ".py",
   "mimetype": "text/x-python",
   "name": "python",
   "nbconvert_exporter": "python",
   "pygments_lexer": "ipython2",
   "version": "2.7.11"
  }
 },
 "nbformat": 4,
 "nbformat_minor": 0
}
