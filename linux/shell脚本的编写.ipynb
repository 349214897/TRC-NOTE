{
 "cells": [
  {
   "cell_type": "markdown",
   "metadata": {},
   "source": [
    "# 通配符和正则表达式的使用场景区别\n",
    "- 通配符\n",
    "    - 说白了一般只用于文件名匹配，它是由shell解析的，比如find，ls，cp，mv等。\n",
    "- 正则表达式\n",
    "    - 正则表达式是用来匹配字符串的，针对文件内容的文本过滤工具里，大都用到正则表达式，如\n",
    "    \n",
    "# 通配符和正则表达式在匹配模式上的异同  \n",
    "- 异  \n",
    "    - 首先通配符适用范围比较窄，只适用与纯shell，shell本身不支持正则表达式，支持正则的是grep，sed，awk。  \n",
    "    - 记住最主要区别是*，在通配符中他表示任意字符串，在正则中其代表重复前面字符任意次  \n",
    ">**注意：在python和java中import后面接的*代表下面所有的项目，和通配符和正则表达式还是有区别的**\n",
    "\n",
    "# 通配符基本记住最常用的就可以了\n",
    "-   \n",
    "    - ? 一个任意字符  \n",
    "    - *任意位任意字符  \n",
    "    - ^ 取反  \n",
    "    - [] \n",
    "    - {} 表示一组表达式的集合\n",
    "\n",
    "# 常见shell脚本操作字符串功能汇总\n",
    "\n",
    "# 如何将Linux命令的结果作为下一个命令的参数\n",
    ">[eshizhan@localhost usr]$ echo \n",
    "\\`date\\`  \n",
    "2011年 11月 30日 星期三 16:37:23 CST\n"
   ]
  }
 ],
 "metadata": {
  "kernelspec": {
   "display_name": "Python 2",
   "language": "python",
   "name": "python2"
  },
  "language_info": {
   "codemirror_mode": {
    "name": "ipython",
    "version": 2
   },
   "file_extension": ".py",
   "mimetype": "text/x-python",
   "name": "python",
   "nbconvert_exporter": "python",
   "pygments_lexer": "ipython2",
   "version": "2.7.11"
  }
 },
 "nbformat": 4,
 "nbformat_minor": 0
}
