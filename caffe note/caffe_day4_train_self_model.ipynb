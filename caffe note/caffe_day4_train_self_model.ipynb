{
 "cells": [
  {
   "cell_type": "markdown",
   "metadata": {},
   "source": [
    "[一个有意思的数据挖掘网站](http://www.joyofdata.de/blog/neural-networks-with-caffe-on-the-gpu/)\n",
    "# 1.利用自己的数据训练一个模型\n",
    "# 2.利用训练好的对应方向的模型\n",
    "# 3.在此模型上fine-turn\n",
    "xiaoyingying504@126.com"
   ]
  }
 ],
 "metadata": {
  "kernelspec": {
   "display_name": "Python 2",
   "language": "python",
   "name": "python2"
  },
  "language_info": {
   "codemirror_mode": {
    "name": "ipython",
    "version": 2
   },
   "file_extension": ".py",
   "mimetype": "text/x-python",
   "name": "python",
   "nbconvert_exporter": "python",
   "pygments_lexer": "ipython2",
   "version": "2.7.11"
  }
 },
 "nbformat": 4,
 "nbformat_minor": 0
}
