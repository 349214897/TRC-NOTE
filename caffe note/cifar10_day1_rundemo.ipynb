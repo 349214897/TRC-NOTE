{
 "cells": [
  {
   "cell_type": "markdown",
   "metadata": {},
   "source": [
    "# 下载数据集\n",
    "将数据下载好\n",
    "# 规整数据\n",
    "create_cifar10.sh 里面有两个功能\n",
    "1. convert_cifar_data.bin由对应的convert_cifar_data.cpp生成，从源码中看出就是将图片做了一次转换\n",
    "2. ./build/tools/compute_image_mean由相应的cpp转换而来\n",
    "\n",
    ">其中1，2源码中都用到了scoped_ptr，[这里是详细介绍](http://blog.csdn.net/lollipop_jin/article/details/8499530)\n",
    "\n",
    ">2里面核心的类为Brobproto和Datum类，前者为实际操作类，后者为从lmdb读取数据，然后传递给前者\n",
    "\n",
    "3. cifar10的cnn模型结构\n",
    "\n",
    "caffe的python工具中提供了网络绘制脚本draw_net.py\n",
    ">要使用draw_net.py，有两种方式\n",
    ">1. 要使用命令os.chdir将当前工作目录切换到caffe/python下，才能找到caffe库\n",
    ">2. 用sys.insert将caffe路径包含到系统的搜索路径当中去"
   ]
  }
 ],
 "metadata": {
  "kernelspec": {
   "display_name": "Python 2",
   "language": "python",
   "name": "python2"
  },
  "language_info": {
   "codemirror_mode": {
    "name": "ipython",
    "version": 2
   },
   "file_extension": ".py",
   "mimetype": "text/x-python",
   "name": "python",
   "nbconvert_exporter": "python",
   "pygments_lexer": "ipython2",
   "version": "2.7.11"
  }
 },
 "nbformat": 4,
 "nbformat_minor": 0
}
