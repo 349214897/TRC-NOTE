{
 "cells": [
  {
   "cell_type": "markdown",
   "metadata": {},
   "source": [
    "序言\n",
    "1. **没接触过caffe的调用caffemodel可以直接参考example/cpp_classfication**\n",
    "\n",
    "2. **进一步调用参考tools/caffe.cpp**  \n",
    "\n",
    ">可以利用./scripts/download_model_binary.py models/bvlc_refrence_caffenet从modelzoo下载model\n",
    "\n",
    ">caffe文件介绍\n",
    "- data\n",
    "- docs\n",
    "- example\n",
    "- matlab\n",
    "- python\n",
    "- model\n",
    "- scripts\n",
    "\n",
    ">编译好后在会有一个build文件夹，里面有一个tools文件夹，有如下内容，[具体使用见这里](http://www.cnblogs.com/denny402/p/5076285.html)\n",
    "- caffe()\n",
    "- test_net()\n",
    "- train_net()  \n",
    "\n",
    ">如下图\n",
    "![具体如下图](caffe struct0.png)  \n",
    "![具体如下图](caffe stucture.png)    \n",
    "\n",
    "3. **使用test训练好的model**\n",
    ">./build/tools/caffe.bin test   \n",
    ">-model=examples/mnist/lenet_train_test.prototxt   \n",
    ">-weights=examples/mnist/lenet_iter_10000.caffemodel   \n",
    ">-gpu=0\n",
    "\n",
    "\n",
    "# caffe的blob数据\n",
    "## 1. 弄清楚怎么把一张图片输入给网络\n",
    "- 得到一张mnist图片 \n",
    "- 利用model-file，trained-file，mean-file，lable-file作为分类器的初始化参数生成分类器类实例对象\n",
    ">what is the mean_file mean?\n",
    "- 构筑分类器时均值文件是怎么计算的？答：可以不加均值文件  \n",
    "**[这里是caffe代码的一个比较好的梳理](http://blog.csdn.net/langb2014/article/category/5998589/2)**\n",
    "- 首先构造的网络的具体实现[caffe代码net](http://blog.csdn.net/langb2014/article/details/50987593)\n",
    "- 读取数据时，通过transform转换数据为统一形式，[如何使用点这里](http://blog.csdn.net/langb2014/article/details/51050213)\n",
    "- lmdb库是caffe管理数据的核心库，[如何使用及原理点这里](http://rayz0620.github.io/2015/05/25/lmdb_in_caffe/)\n",
    "\n",
    "## 2. 网络的参数存在哪里，数据流怎样进行\n",
    "## 3. 预测的结果输出是什么样的形式\n"
   ]
  },
  {
   "cell_type": "code",
   "execution_count": null,
   "metadata": {
    "collapsed": true
   },
   "outputs": [],
   "source": []
  }
 ],
 "metadata": {
  "kernelspec": {
   "display_name": "Python 2",
   "language": "python",
   "name": "python2"
  },
  "language_info": {
   "codemirror_mode": {
    "name": "ipython",
    "version": 2
   },
   "file_extension": ".py",
   "mimetype": "text/x-python",
   "name": "python",
   "nbconvert_exporter": "python",
   "pygments_lexer": "ipython2",
   "version": "2.7.11"
  }
 },
 "nbformat": 4,
 "nbformat_minor": 0
}
