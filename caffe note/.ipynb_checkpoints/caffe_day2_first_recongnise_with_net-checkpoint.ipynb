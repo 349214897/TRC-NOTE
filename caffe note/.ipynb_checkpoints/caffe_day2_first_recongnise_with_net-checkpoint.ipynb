{
 "cells": [
  {
   "cell_type": "markdown",
   "metadata": {},
   "source": [
    "序言\n",
    "1. **没接触过caffe的调用caffemodel可以直接参考example/cpp_classfication**\n",
    "2. **进一步调用参考tools/caffe.cpp**\n",
    ">可以利用./scripts/download_model_binary.py models/bvlc_refrence_caffenet从modelzoo下载model\n",
    "\n",
    ">caffe文件介绍\n",
    "- data\n",
    "- docs\n",
    "- example\n",
    "- matlab\n",
    "- python\n",
    "- model\n",
    "- scripts\n",
    "\n",
    ">编译好后在会有一个build文件夹，里面有一个tools文件夹，有如下内容\n",
    "- caffe\n",
    "- test_net\n",
    "- train_net  \n",
    "\n",
    "如下图\n",
    "![具体如下图](caffe stucture.png)\n",
    "\n",
    "\n",
    "# caffe的blob数据\n",
    "## 1. 弄清楚怎么把一张图片输入给网络\n",
    "- 得到一张mnist图片 \n",
    "- 利用model-file，trained-file，mean-file，lable-file作为分类器的初始化参数生成分类器类实例对象\n",
    ">what is the mean_file mean?\n",
    "- 构筑分类器时均值文件是怎么计算的？\n",
    "\n",
    "## 2. 网络的参数存在哪里，数据流怎样进行\n",
    "## 3. 预测的结果输出是什么样的形式\n"
   ]
  }
 ],
 "metadata": {
  "kernelspec": {
   "display_name": "Python 2",
   "language": "python",
   "name": "python2"
  },
  "language_info": {
   "codemirror_mode": {
    "name": "ipython",
    "version": 2
   },
   "file_extension": ".py",
   "mimetype": "text/x-python",
   "name": "python",
   "nbconvert_exporter": "python",
   "pygments_lexer": "ipython2",
   "version": "2.7.11"
  }
 },
 "nbformat": 4,
 "nbformat_minor": 0
}
