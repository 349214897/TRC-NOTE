{
 "cells": [
  {
   "cell_type": "markdown",
   "metadata": {},
   "source": [
    "# caffe 的输入组织形式\n",
    "有几个形式可以把我一个网络究竟要什么样的输入  \n",
    "1. 网络中data层定义\n",
    ">for example  \n",
    "input_param { shape: { dim: 64 dim: 1 dim: 28 dim: 28 } }  \n",
    ">其中64为一次训练用到的样本个数，俗称batch size，关于它的选取有很大的学问，[选取的准则这里有充分说明](http://blog.csdn.net/ycheng_sjtu/article/details/49804041)  \n",
    "\n",
    "2. 训练中epoch和batch size，iteration的区别和联系\n",
    ">one epoch：所有的训练样本完成一次Forword运算以及一次BP运算  \n",
    "batch size：一次Forword运算以及BP运算中所需要的训练样本数目，其实深度学习每一次参数的更新所需要损失函数并不是由一个{data：label}获得的，而是由一组数据加权得到的，这一组数据的数量就是[batch size]。当然batch size 越大，所需的内存就越大，要量力而行  \n",
    "iterations（迭代）：每一次迭代都是一次权重更新，每一次权重更新需要batch size个数据进行Forward运算得到损失函数，再BP算法更新参数。  \n",
    "最后可以得到一个公式 one epoch = numbers of iterations = N = 训练样本的数量/batch size"
   ]
  }
 ],
 "metadata": {
  "kernelspec": {
   "display_name": "Python 2",
   "language": "python",
   "name": "python2"
  },
  "language_info": {
   "codemirror_mode": {
    "name": "ipython",
    "version": 2
   },
   "file_extension": ".py",
   "mimetype": "text/x-python",
   "name": "python",
   "nbconvert_exporter": "python",
   "pygments_lexer": "ipython2",
   "version": "2.7.11"
  }
 },
 "nbformat": 4,
 "nbformat_minor": 0
}
