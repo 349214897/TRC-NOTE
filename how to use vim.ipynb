{
 "cells": [
  {
   "cell_type": "markdown",
   "metadata": {},
   "source": [
    "# Vim多行缩进技巧\n",
    "\n",
    "### 1. 按v进入visual状态，选择多行，用>或<缩进或缩出 \n",
    "\n",
    "### 2. 通常根据语言特征使用自动缩进排版：  \n",
    "在命令状态下对当前行用== （连按=两次）, 或对多行用n==（n是自然数）表示自动缩进从当前行起的下面n行。你可以试试把代码缩进任意打乱再用n==排版，相当于一般IDE里的code format。使用gg=G可对整篇代码进行排版。\n",
    "\n",
    "### 3. gg   shift+G 首尾\n",
    "\n",
    "### 4. 全文字眼替换\n",
    "\n",
    ">%s/source/dist/g 或者 :1,$ s/source/dist/g    \n",
    "　　:s/vivian/sky/ 替换当前行第一个 vivian 为 sky  \n",
    "　　:s/vivian/sky/g 替换当前行所有 vivian 为 sky  \n",
    "　　:n,$s/vivian/sky/ 替换第 n 行开始到最后一行中每一行的第一个 vivian 为 sky  \n",
    "　　:n,$s/vivian/sky/g 替换第 n 行开始到最后一行中每一行所有 vivian 为 sky  \n",
    "　　n 为数字，若 n 为 .，表示从当前行开始到最后一行  \n",
    "　　:%s/vivian/sky/(等同于 :g/vivian/s//sky/) 替换每一行的第一个 vivian 为 sky  \n",
    "　　:%s/vivian/sky/g(等同于 :g/vivian/s//sky/g) 替换每一行中所有 vivian 为 sky  \n",
    "　　可以使用 # 作为分隔符，此时中间出现的 / 不会作为分隔符  \n",
    "　　:s#vivian/#sky/# 替换当前行第一个 vivian/ 为 sky/  \n",
    "　　:%s+/oradata/apras/+/user01/apras1+ (使用+ 来 替换 / )： /oradata/apras/替换成/user01/apras1/  \n",
    " \n",
    "******  \n",
    "　　1. **:s/vivian/sky/ 替换当前行第一个 vivian 为 sky**  \n",
    "　　:s/vivian/sky/g 替换当前行所有 vivian 为 sky  \n",
    "　　2. :n,$s/vivian/sky/ 替换第 n 行开始到最后一行中每一行的第一个 vivian 为 sky  \n",
    "　　:n,$s/vivian/sky/g 替换第 n 行开始到最后一行中每一行所有 vivian 为 sky  \n",
    "　　(n 为数字，若 n 为 .，表示从当前行开始到最后一行)  \n",
    "　　3. **:%s/vivian/sky/(等同于 :g/vivian/s//sky/) 替换每一行的第一个 vivian 为 sky**  \n",
    "　　:%s/vivian/sky/g(等同于 :g/vivian/s//sky/g) 替换每一行中所有 vivian 为 sky  \n",
    "　　4. **可以使用 # 作为分隔符，此时中间出现的 / 不会作为分隔符**  \n",
    ">  :s#vivian/#sky/# 替换当前行第一个 vivian/ 为 sky/  \n",
    "  \n",
    "　　5. **删除文本中的^M**  \n",
    "　　问题描述：对于换行,window下用回车换行(0A0D)来表示，linux下是回车(0A)来表示。这样，将window上的文件拷到unix上用时，总会有个^M.请写个用在unix下的过滤windows文件的换行符(0D)的shell或c程序。  \n",
    "　　· 使用命令：cat filename1 | tr -d “^V^M” > newfile;  \n",
    "　　· 使用命令：sed -e “s/^V^M//” filename > outputfilename。需要注意的是在1、2两种方法中，^V和^M指的是Ctrl+V和Ctrl+M。你必须要手工进行输入，而不是粘贴。  \n",
    "　　· 在vi中处理：首先使用vi打开文件，然后按ESC键，接着输入命令：%s/^V^M//。  \n",
    "　　· :%s/^M$//g  \n",
    "　　如果上述方法无用，则正确的解决办法是：  \n",
    "　　· tr -d \"\\r\" < src >dest  \n",
    "　　· tr -d \"\\015\" dest  \n",
    "　　· strings A>B  \n",
    "  \n",
    "　　6. **其它**  \n",
    "　　利用 :s 命令可以实现字符串的替换。具体的用法包括：  \n",
    "　　:s/str1/str2/ 用字符串 str2 替换行中首次出现的字符串 str1  \n",
    "　　:s/str1/str2/g 用字符串 str2 替换行中所有出现的字符串 str1  \n",
    "　　:.,$ s/str1/str2/g 用字符串 str2 替换正文当前行到末尾所有出现的字符串 str1  \n",
    "　　:1,$ s/str1/str2/g 用字符串 str2 替换正文中所有出现的字符串 str1  \n",
    "　　:g/str1/s//str2/g 功能同上  \n",
    "　　从上述替换命令可以看到：g 放在命令末尾，表示对搜索字符串的每次出现进行替换;不加 g，表示只对搜索  \n",
    "　　字符串的首次出现进行替换;g 放在命令开头，表示对正文中所有包含搜索字符串的行进行替换操作。  \n"
   ]
  }
 ],
 "metadata": {
  "kernelspec": {
   "display_name": "Python 2",
   "language": "python",
   "name": "python2"
  },
  "language_info": {
   "codemirror_mode": {
    "name": "ipython",
    "version": 2
   },
   "file_extension": ".py",
   "mimetype": "text/x-python",
   "name": "python",
   "nbconvert_exporter": "python",
   "pygments_lexer": "ipython2",
   "version": "2.7.11"
  }
 },
 "nbformat": 4,
 "nbformat_minor": 0
}
