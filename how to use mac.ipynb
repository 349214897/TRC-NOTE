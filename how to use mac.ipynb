{
 "cells": [
  {
   "cell_type": "markdown",
   "metadata": {},
   "source": [
    "### 1默认finder显示文件路径\n",
    "如下方式\n",
    "在终端下利用命令\n",
    ">defaults write com.apple.finder _FXShowPosixPathInTitle -bool TRUE;killall Finder\n",
    "![](../s.png)\n",
    "---  \n",
    "\n",
    "### 2截屏  \n",
    "\n",
    "1. 全屏截图command+shift+3  \n",
    "2. 选定区域截图command+shift+4  \n",
    "---  \n",
    "\n",
    "### 3暂时未解决问题  \n",
    "\n",
    "1. karabiner的hjkl在文件命名中不能使用，有冲突  \n",
    "2.  \n",
    "---  \n",
    "\n",
    "### 4并排开两个窗口  \n",
    "\n",
    "1. 使用cinch插件 \n",
    "2.  \n",
    "---   \n",
    "\n",
    "### 5finder便捷操作  \n",
    "\n",
    "1. karabiner  \n",
    "2. keyboard maestro  \n",
    "---  \n",
    "\n",
    "### 6atom+ietrm2  \n",
    "\n",
    "1. command+d添加窗口  \n",
    "2. [iterm2官网快捷键介绍](src=\"http://www.iterm2.com/documentation.html\")  \n",
    " \n",
    "### 7xcode+xvim  \n",
    "\n",
    "### 8chrome+vimum  \n",
    "\n",
    "### 9分屏功能\n",
    "按住左上角绿色全屏件两秒或以上就会把两个活动窗口平铺  \n",
    "\n",
    "### 10显示所有文件夹\n",
    "显示文件夹命令   defaults write com.apple.finder AppleShowAllFiles -bool true\n",
    " 在10.11里面必须加上killall Finder\n",
    "\n",
    "\n"
   ]
  }
 ],
 "metadata": {
  "kernelspec": {
   "display_name": "Python 2",
   "language": "python",
   "name": "python2"
  },
  "language_info": {
   "codemirror_mode": {
    "name": "ipython",
    "version": 2
   },
   "file_extension": ".py",
   "mimetype": "text/x-python",
   "name": "python",
   "nbconvert_exporter": "python",
   "pygments_lexer": "ipython2",
   "version": "2.7.11"
  }
 },
 "nbformat": 4,
 "nbformat_minor": 0
}
