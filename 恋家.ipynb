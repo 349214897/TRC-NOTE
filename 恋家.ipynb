{
 "cells": [
  {
   "cell_type": "code",
   "execution_count": 2,
   "metadata": {
    "collapsed": false
   },
   "outputs": [
    {
     "ename": "SyntaxError",
     "evalue": "invalid syntax (<ipython-input-2-c0c1c3a63026>, line 91)",
     "output_type": "error",
     "traceback": [
      "\u001b[0;36m  File \u001b[0;32m\"<ipython-input-2-c0c1c3a63026>\"\u001b[0;36m, line \u001b[0;32m91\u001b[0m\n\u001b[0;31m    Contact GitHub API Training Shop Blog About\u001b[0m\n\u001b[0m                 ^\u001b[0m\n\u001b[0;31mSyntaxError\u001b[0m\u001b[0;31m:\u001b[0m invalid syntax\n"
     ]
    }
   ],
   "source": [
    "\n",
    "# -*- coding: utf-8 -*-\n",
    "\"\"\"一个从链家上爬取房屋数据的程序\n",
    "Created on Tue Jan 13 21:49:36 2015\n",
    "@author wocanmei\n",
    "\"\"\"\n",
    "import sys\n",
    "import random\n",
    "import requests\n",
    "from bs4 import BeautifulSoup\n",
    "from bs4.element import Tag\n",
    "\n",
    "\n",
    "#指定系统默认编码\n",
    "reload(sys)\n",
    "sys.setdefaultencoding('utf8')\n",
    "\n",
    "HOUSE_DIR = './houses.txt'\n",
    "\n",
    "def get_one_page_house(url):\n",
    "    print 'Fetching data from ' + url\n",
    "    r = requests.get(url)\n",
    "    r.encoding = 'utf8'\n",
    "    html = r.text\n",
    "    soup = BeautifulSoup(html)\n",
    "    hlst = soup.findAll('div', class_='info-panel')\n",
    "    one_page_house = []\n",
    "    for h in hlst:\n",
    "        print '...',\n",
    "        house = []\n",
    "        area =  h.parent['data-id'][0:4]\n",
    "        region = h.find('span',class_='region').string\n",
    "        zone = h.find('span',class_='zone').string\n",
    "        meters = h.find('span',class_='meters').string[0:-2]\n",
    "        direction = h.find('span',class_='meters').next_sibling.string\n",
    "        direction = (direction if direction != None else '')\n",
    "        con = h.find('div',class_='con').a.string\n",
    "        floor = h.find('div',class_='con').contents[2][0:3]\n",
    "        year = h.find('div',class_='con').contents[4][0:4]\n",
    "        school = h.find('span',class_='fang05-ex')\n",
    "        school = ('1' if school != None else '0')\n",
    "        subway = h.find('span',class_='fang-subway-ex')\n",
    "        subway = ('1' if subway != None else '0')\n",
    "        taxfree = h.find('span',class_='taxfree-ex')\n",
    "        taxfree = (taxfree.string if taxfree != None else '')\n",
    "        num = h.find('span',class_='num').string\n",
    "        price = h.find('div',class_='price-pre').string[0:-5]\n",
    "        house.append(''.join(area.split()))\n",
    "        house.append(''.join(region.split()))\n",
    "        house.append(''.join(zone.split()))\n",
    "        house.append(''.join(meters.split()))\n",
    "        house.append(''.join(direction.split()))\n",
    "        house.append(''.join(con.split()))\n",
    "        house.append(''.join(floor.split()))\n",
    "        house.append(''.join(year.split()))\n",
    "        house.append(school)\n",
    "        house.append(subway)\n",
    "        house.append(''.join(taxfree.split()))\n",
    "        house.append(''.join(num.split()))\n",
    "        house.append(''.join(price.split()))\n",
    "        one_page_house.append(house)\n",
    "    print 'done'\n",
    "    return one_page_house\n",
    "\n",
    "\n",
    "def write_to_txt(s):\n",
    "    # 带加号为可读写\n",
    "    print 'Write to file...',\n",
    "    hl = open(HOUSE_DIR, 'a')\n",
    "    hl.write(s)\n",
    "    hl.close()\n",
    "    print 'done',\n",
    "\n",
    "\n",
    "if __name__ == '__main__':\n",
    "    url_pre = 'http://bj.lianjia.com/ershoufang/pg'\n",
    "    if len(sys.argv) == 3:\n",
    "        page_num = int(sys.argv[1])\n",
    "        total_page_num = int(sys.argv[2])\n",
    "    else:\n",
    "        print \"Please input how many pages to get and the total number of pages\"\n",
    "        sys.exit(0)\n",
    "    # 随机的从总页码中抽取一定数量的页\n",
    "    page_basket = random.sample(xrange(1, total_page_num), page_num)\n",
    "    i = 0  #对抓取的页数计数\n",
    "    for p in page_basket:\n",
    "        url = url_pre + str(p)\n",
    "        write_to_txt('\\n'.join([','.join(h) for h in get_one_page_house(url)]) + '\\n')\n",
    "        i = i + 1\n",
    "        print '+' + str(i)\n",
    "Contact GitHub API Training Shop Blog About\n",
    "© 2016 GitHub, Inc. Terms Privacy Security Status Help"
   ]
  },
  {
   "cell_type": "code",
   "execution_count": null,
   "metadata": {
    "collapsed": true
   },
   "outputs": [],
   "source": []
  }
 ],
 "metadata": {
  "kernelspec": {
   "display_name": "Python 2",
   "language": "python",
   "name": "python2"
  },
  "language_info": {
   "codemirror_mode": {
    "name": "ipython",
    "version": 2
   },
   "file_extension": ".py",
   "mimetype": "text/x-python",
   "name": "python",
   "nbconvert_exporter": "python",
   "pygments_lexer": "ipython2",
   "version": "2.7.11"
  }
 },
 "nbformat": 4,
 "nbformat_minor": 0
}
