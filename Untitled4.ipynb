{
 "cells": [
  {
   "cell_type": "code",
   "execution_count": 16,
   "metadata": {
    "collapsed": false
   },
   "outputs": [],
   "source": [
    "import urllib\n",
    "import urllib2\n",
    "values={\"username\":\"349214897@qq.com\",\"password\":\"tch865528998\"}\n",
    "data=urllib.urlencode(values)\n",
    "user_agent=\"Mozilla/5.0 (Macintosh; Intel Mac OS X 10_11_4)\"\n",
    "headers={'User-agent':user_agent,'Referer':'http://blog.csdn.net/hustpzb/article'}\n",
    "url=\"http://my.csdn.net\"\n",
    "#response=urllib2.urlopen(\"http://www.baidu.com\")\n",
    "request = urllib2.Request(url,data,headers)\n",
    "try:\n",
    "    urllib2.urlopen(request)\n",
    "except urllib2.URLError, e:\n",
    "    print e.reason\n",
    "#print(response.read())"
   ]
  },
  {
   "cell_type": "code",
   "execution_count": 22,
   "metadata": {
    "collapsed": true
   },
   "outputs": [],
   "source": [
    "import urllib2\n",
    "requset = urllib2.Request('http://www.12345678.com')\n",
    "try:\n",
    "    urllib2.urlopen(request)\n",
    "except urllib2.URLError, e:\n",
    "    print(e.reason)"
   ]
  },
  {
   "cell_type": "code",
   "execution_count": 12,
   "metadata": {
    "collapsed": false
   },
   "outputs": [
    {
     "name": "stdout",
     "output_type": "stream",
     "text": [
      "Help on function urlopen in module urllib2:\n",
      "\n",
      "urlopen(url, data=None, timeout=<object object>, cafile=None, capath=None, cadefault=False, context=None)\n",
      "\n"
     ]
    }
   ],
   "source": [
    "help(urllib2.urlopen)"
   ]
  },
  {
   "cell_type": "code",
   "execution_count": 41,
   "metadata": {
    "collapsed": false
   },
   "outputs": [
    {
     "name": "stdout",
     "output_type": "stream",
     "text": [
      "\n",
      "\n",
      "女友:“你的人生可以用超级玛丽来形容。”我:“对，为了达到自己的目标而勇往直前！”女友:“不是，是因为在你人生道路上今天撞个墙，明天掉个坑的，可是依然能蹦哒的那么开心……”我……\n",
      "\n",
      "\n",
      "\n",
      "\n",
      "是不是，深有同感\n",
      "\n",
      "\n",
      "\n",
      "\n",
      "刚才接一骗子电话:我们是某某银行，刚才查询发现您的银行卡昨天在境外消费8万8千元，请问是您本人消费么？我说:是我本人消费的。骗子沉默了5秒后说:您真能吹牛逼\n",
      "\n",
      "\n",
      "\n",
      "\n",
      "左眼皮跳了半天，就决定去买彩票，都说左眼跳财嘛。不服不行，真特么灵啊，我刚走进投注站眼睛就不跳啦……\n",
      "\n",
      "\n",
      "\n",
      "\n",
      "这是老司机的店，没谁了！\n",
      "\n",
      "\n",
      "\n",
      "\n",
      "一个人久了，到什么地步呢？出去吃饭就没见到过认识的人，每次只有老板抬头看我一眼，自言自语，“15块，微辣，荤菜随便～”<br/>呵呵呵呵呵，怪我太年轻～\n",
      "\n",
      "\n",
      "\n",
      "\n",
      "人是怎样自我安慰的：吃剩的东西直接扔掉会良心不安，放冰箱里等到它坏掉就可以扔了，毕竟是你自己长毛不能怪我。\n",
      "\n",
      "\n",
      "\n",
      "\n",
      "早晨骑车上班，听到小区里一阵阵杀猪般的哭叫声，我问门卫：什么情况啊？<br/>门卫：没事儿，今天幼儿园又开学了嘛！\n",
      "\n",
      "\n",
      "\n",
      "\n",
      "认识一女孩，几个月了，有暧昧，有亲吻，就是不能更进一步，问她：为啥不能去开房？女孩：我老爸说了，谁要在婚前欺负我，就打断他的腿！我：你老爸干啥的？女孩：公安局的。\n",
      "\n",
      "\n",
      "\n",
      "\n",
      "初中的时候出去野游，回来的时候男生说自行车比赛，十多个男生每个人都用车子带个女生。<br/>比赛开始了，每个男生都卯足劲瞪，过一会就看见我班一个男生超过了所有人骑到第一，我们同时喊等一下你同伴呢？他一回头看说了句:“卧槽，人呢？”<br/>大家又一起回去找他同伴，见到他同伴时，她浑身脏兮兮的，边走边哭呢。\n",
      "\n",
      "\n",
      "\n",
      "\n",
      "同学机关单位工作，招司机，有一叔叔应聘成功，第二天早上领导用车，给他打电话，结果叔叔说本给扣了，领导就问怎么回事儿，叔叔说找到工作，昨晚喝了两杯，庆祝了一下。。。。\n",
      "\n",
      "\n",
      "\n",
      "\n",
      "同事老公是钓鱼迷。今天同事讲，昨晚吹着风扇睡着了，半夜凉醒来的，听到老公说梦话:“收杆吧，别钓了，这风吹着太TM冷了！”\n",
      "\n",
      "\n",
      "\n",
      "\n",
      "办公室王姐在数落儿子：你说你能让我省点心吗？你都折腾我二十几年了。。。<br/>儿子：妈妈，我才十六岁。。。<br/>王姐：包括想方设法怀上你。。。\n",
      "\n",
      "\n",
      "\n",
      "\n",
      "小明嫌妈妈的厨艺不行不爱吃饭，于是小明的妈妈报了培训班每天去上课。<br/><br/>三个月后，小明的妈妈终于可以用跆拳道把小明打得乖乖吃饭了。\n",
      "\n",
      "\n",
      "\n",
      "\n",
      "我女友买衣服的审美品位很差，她觉得好看的衣服，其实都挺丑的。因为这个事儿，我是操碎了心，磨破了嘴。最后我也想开了，如果她品位很高的话，也不会看上我啊。\n",
      "\n",
      "\n",
      "\n",
      "\n",
      "我小时候长得比较中性...大人们一般第一次看见我都逗我“你是男孩还是女孩...”...“男孩？我不信..脱裤子看看..”......被逗多了...后来只要不认识的大人跟我说话“你....”...不用等他们说完...我直接一扒裤子双手叉腰..把JJ往前面一顶.....每当想到这....这....我不想说话\n",
      "\n",
      "\n",
      "\n",
      "\n",
      "初中的时候，有段时间肚子疼，我请假多次，有次出门的时候，门卫不让走，给老师打电话，“老师啊，门卫不让走啊。”老师来了一句，“快跑啊！趁他不注意！”\n",
      "\n",
      "\n",
      "\n",
      "\n",
      "正在寝室看电影，一同学进来告诉我，他做了一件里程碑的事情，我看了他一眼，说什么事情，厕所被你炸了？他说，差不多，我在上厕所的时候无聊，看了两集舌尖上的中国。我，…………\n",
      "\n",
      "\n",
      "\n",
      "\n",
      "地铁上,,,割吧,,,小朋友真可爱，看我站着以为我没看到他旁边有座位，走过来拉我衣角示意我坐过去。看那简单单纯的笑容，打心里觉得温暖。可惜今天身上没有带糖。。。\n",
      "\n",
      "\n",
      "\n",
      "\n",
      "我和表弟打小感情就很好，就算意见相左，我们也会商量着来。记得有一次，表弟买了个雪糕，我：“一人一半” 表弟：“不行！” 我：“老规矩，单挑！” 表弟义正严辞道：“哥你吃吧，我不饿。”\n",
      "\n",
      "\n"
     ]
    }
   ],
   "source": [
    "# -*- coding:utf-8 -*-\n",
    "import urllib\n",
    "import urllib2\n",
    "import re\n",
    "\n",
    "page = 1\n",
    "url = 'http://www.qiushibaike.com/hot/page/' + str(page)\n",
    "user_agent = 'Mozilla/5.0 (Macintosh; Intel Mac OS X 10_11_4)'\n",
    "headers = { 'User-Agent' : user_agent }\n",
    "try:\n",
    "    request = urllib2.Request(url,headers = headers)\n",
    "    response = urllib2.urlopen(request)\n",
    "    content = response.read().decode('utf-8')\n",
    "    pattern = re.compile('<div.*?class=\"content\">(.*?)</div>',re.S)\n",
    "    items = re.findall(pattern,content)\n",
    "    for item in items:\n",
    "        print item\n",
    "except urllib2.URLError, e:\n",
    "    if hasattr(e,\"code\"):\n",
    "        print e.code\n",
    "    if hasattr(e,\"reason\"):\n",
    "        print e.reason"
   ]
  },
  {
   "cell_type": "code",
   "execution_count": 2,
   "metadata": {
    "collapsed": true
   },
   "outputs": [],
   "source": [
    "import os\n",
    "import sys\n",
    "os.sys.path"
   ]
  }
 ],
 "metadata": {
  "kernelspec": {
   "display_name": "Python 2",
   "language": "python",
   "name": "python2"
  },
  "language_info": {
   "codemirror_mode": {
    "name": "ipython",
    "version": 2
   },
   "file_extension": ".py",
   "mimetype": "text/x-python",
   "name": "python",
   "nbconvert_exporter": "python",
   "pygments_lexer": "ipython2",
   "version": "2.7.11"
  }
 },
 "nbformat": 4,
 "nbformat_minor": 0
}
